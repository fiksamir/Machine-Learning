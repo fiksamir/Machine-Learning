{
 "cells": [
  {
   "cell_type": "markdown",
   "id": "4994016c-d318-4577-b968-281d793fb989",
   "metadata": {},
   "source": [
    "Для успішного виконання домашки використовуйте документацію [NumPy](https://numpy.org/doc/stable/).\n",
    "\n",
    "Зверніть увагу на такі методи `numpy`:\n",
    "* *arange*\n",
    "* *zeros*\n",
    "* *ones*\n",
    "* *full*\n",
    "* *nonzero*\n",
    "* *eye*\n",
    "* *random*\n",
    "* *sort*\n",
    "* *sum*\n",
    "* *min*\n",
    "* *mean*"
   ]
  },
  {
   "cell_type": "code",
   "execution_count": null,
   "id": "46a34168-40d8-472c-af42-1c9e74f27782",
   "metadata": {},
   "outputs": [],
   "source": [
    "import numpy as np"
   ]
  },
  {
   "cell_type": "code",
   "execution_count": null,
   "id": "9eae0577-c5b9-4b45-a841-fb7e0cd46ae2",
   "metadata": {},
   "outputs": [],
   "source": [
    "# Завдання 1: Створити масив розміром 3x3 зі значеннями від 0 до 8\n",
    "# Hints: np.arange\n",
    "arr1 = ..."
   ]
  },
  {
   "cell_type": "code",
   "execution_count": null,
   "id": "c4442a60-f6f3-48e4-8a9e-0aa2a4c08acb",
   "metadata": {},
   "outputs": [],
   "source": [
    "# Завдання 2: Створити вектор розміром 10, заповнений нулями\n",
    "arr2 = ..."
   ]
  },
  {
   "cell_type": "code",
   "execution_count": null,
   "id": "35b875ff-292f-4f80-ab04-9a2d8307d33a",
   "metadata": {},
   "outputs": [],
   "source": [
    "# Завдання 3: Створити вектор розміром 10, заповнений одиницями\n",
    "arr3 = ..."
   ]
  },
  {
   "cell_type": "code",
   "execution_count": null,
   "id": "1b6bffbb-5dea-4885-8ceb-5164811db29c",
   "metadata": {},
   "outputs": [],
   "source": [
    "# Завдання 4: Створити вектор розміром 10, заповнений значеннями 5\n",
    "# Hints: np.full\n",
    "arr4 = ..."
   ]
  },
  {
   "cell_type": "code",
   "execution_count": null,
   "id": "1f62466c-2660-4f70-8399-27fab4d197b1",
   "metadata": {},
   "outputs": [],
   "source": [
    "# Завдання 5: Створити вектор з числами від 10 до 49\n",
    "arr5 = ..."
   ]
  },
  {
   "cell_type": "code",
   "execution_count": null,
   "id": "e673b144-0eae-4e48-9e80-358da5b39783",
   "metadata": {},
   "outputs": [],
   "source": [
    "# Завдання 6: Реверсувати порядок елементів вектора з завдання 5\n",
    "arr6 = ..."
   ]
  },
  {
   "cell_type": "code",
   "execution_count": null,
   "id": "f5fdce9b-3003-4560-b488-1bb8af2c0551",
   "metadata": {},
   "outputs": [],
   "source": [
    "# Завдання 7: Створити 9x9 матрицю зі значеннями від 0 до 80\n",
    "# Hints: np.arange\n",
    "arr7 = ..."
   ]
  },
  {
   "cell_type": "code",
   "execution_count": null,
   "id": "c5aa5564-5ea6-414d-bf70-92d1b2dbe3da",
   "metadata": {},
   "outputs": [],
   "source": [
    "# Завдання 8: Знайти індекси ненульових елементів вектора [1,2,0,0,4,0]\n",
    "# Hints: np.nonzero\n",
    "arr8 = ..."
   ]
  },
  {
   "cell_type": "code",
   "execution_count": null,
   "id": "d4b551a0-8ac8-4d4f-ae9a-f8c89388edc2",
   "metadata": {},
   "outputs": [],
   "source": [
    "# Завдання 9: Створити одиничну матрицю розміром 3x3\n",
    "# Hints: np.eye\n",
    "arr9 = ..."
   ]
  },
  {
   "cell_type": "code",
   "execution_count": null,
   "id": "5b65802f-0a76-4b21-8984-d15847ab8929",
   "metadata": {},
   "outputs": [],
   "source": [
    "# Завдання 10: Створити випадковий вектор розміром 10 та відсортувати його\n",
    "arr10 = ...\n",
    "arr10_sorted = ..."
   ]
  },
  {
   "cell_type": "code",
   "execution_count": null,
   "id": "522934ef-c4f2-4960-b174-34f60b5b570c",
   "metadata": {},
   "outputs": [],
   "source": [
    "# Завдання 11: Створити матрицю 5x5 з випадковими цілими числами в діапазоні від 0 до 10\n",
    "arr11 = ..."
   ]
  },
  {
   "cell_type": "code",
   "execution_count": null,
   "id": "5e199784-9d2e-4b5c-a588-a83badcc1367",
   "metadata": {},
   "outputs": [],
   "source": [
    "# Завдання 12: Обчислити суму всіх елементів матриці з завдання 11\n",
    "arr11_sum = ..."
   ]
  },
  {
   "cell_type": "code",
   "execution_count": null,
   "id": "9ef6bc2e-fb32-4e3c-84bd-e3898bfe9cd7",
   "metadata": {},
   "outputs": [],
   "source": [
    "# Завдання 13: Знайти найменше значення в кожному рядку матриці з завдання 11\n",
    "arr11_min_row = ..."
   ]
  },
  {
   "cell_type": "code",
   "execution_count": null,
   "id": "8236b838-8cb3-4adc-82d1-121b29701bee",
   "metadata": {},
   "outputs": [],
   "source": [
    "# Завдання 14: Обчислити середнє значення кожного стовпця матриці з завдання 11\n",
    "arr11_mean_col = ..."
   ]
  },
  {
   "cell_type": "code",
   "execution_count": null,
   "id": "6c1c6b63-42fa-435f-910b-b82cb6427c0d",
   "metadata": {},
   "outputs": [],
   "source": [
    "# Завдання 15: Створити випадковий вектор розміром 15 та замінити максимальне значення на -1\n",
    "# Hints: np.argmax\n",
    "arr15 = ...\n",
    "arr15[arr15.<...>] = ..."
   ]
  },
  {
   "cell_type": "code",
   "execution_count": null,
   "id": "915a52ab-a49e-4485-958c-98fa607c1294",
   "metadata": {},
   "outputs": [],
   "source": [
    "# Завдання 16: Перетворити випадковий вектор розміром 10 в матрицю розміром 2x5\n",
    "arr16 = ..."
   ]
  },
  {
   "cell_type": "code",
   "execution_count": null,
   "id": "6df6bd93-d180-4d59-b2f7-52fbd823ac91",
   "metadata": {},
   "outputs": [],
   "source": [
    "# Завдання 17: Знайти середнє значення елементів матриці з завдання 16\n",
    "arr16_mean = ..."
   ]
  }
 ],
 "metadata": {
  "kernelspec": {
   "display_name": "Python 3 (ipykernel)",
   "language": "python",
   "name": "python3"
  },
  "language_info": {
   "codemirror_mode": {
    "name": "ipython",
    "version": 3
   },
   "file_extension": ".py",
   "mimetype": "text/x-python",
   "name": "python",
   "nbconvert_exporter": "python",
   "pygments_lexer": "ipython3",
   "version": "3.12.1"
  }
 },
 "nbformat": 4,
 "nbformat_minor": 5
}
