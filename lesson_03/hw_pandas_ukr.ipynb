{
 "cells": [
  {
   "cell_type": "markdown",
   "metadata": {},
   "source": [
    "<center>\n",
    "<img src=\"../../img/ods_stickers.jpg\">\n",
    "## Открытый курс по машинному обучению\n",
    "<center>\n",
    "Автор материала: Юрий Кашницкий, программист-исследователь Mail.Ru Group <br> \n",
    "\n",
    "Материал распространяется на условиях лицензии [Creative Commons CC BY-NC-SA 4.0](https://creativecommons.org/licenses/by-nc-sa/4.0/). Можно использовать в любых целях (редактировать, поправлять и брать за основу), кроме коммерческих, но с обязательным упоминанием автора материала."
   ]
  },
  {
   "cell_type": "markdown",
   "metadata": {},
   "source": [
    "# <center>Домашнє завдання № 1 (демо).<br> Аналіз даних доходів населення UCI Adult</center>"
   ]
  },
  {
   "cell_type": "markdown",
   "metadata": {},
   "source": [
    "**В завданні пропонується за допомогою Pandas дати відповідь на кілька запитань по даним репозиторія UCI [Adult](https://archive.ics.uci.edu/ml/datasets/Adult).**"
   ]
  },
  {
   "cell_type": "markdown",
   "metadata": {},
   "source": [
    "Унікальні значення ознак:\n",
    "- age: continuous.\n",
    "- workclass: Private, Self-emp-not-inc, Self-emp-inc, Federal-gov, Local-gov, State-gov, Without-pay, Never-worked.\n",
    "- fnlwgt: continuous.\n",
    "- education: Bachelors, Some-college, 11th, HS-grad, Prof-school, Assoc-acdm, Assoc-voc, 9th, 7th-8th, 12th, Masters, 1st-4th, 10th, Doctorate, 5th-6th, Preschool.\n",
    "- education-num: continuous.\n",
    "- marital-status: Married-civ-spouse, Divorced, Never-married, Separated, Widowed, Married-spouse-absent, Married-AF-spouse.\n",
    "- occupation: Tech-support, Craft-repair, Other-service, Sales, Exec-managerial, Prof-specialty, Handlers-cleaners, Machine-op-inspct, Adm-clerical, Farming-fishing, Transport-moving, Priv-house-serv, Protective-serv, Armed-Forces.\n",
    "- relationship: Wife, Own-child, Husband, Not-in-family, Other-relative, Unmarried.\n",
    "- race: White, Asian-Pac-Islander, Amer-Indian-Eskimo, Other, Black.\n",
    "- sex: Female, Male.\n",
    "- capital-gain: continuous.\n",
    "- capital-loss: continuous.\n",
    "- hours-per-week: continuous.\n",
    "- native-country: United-States, Cambodia, England, Puerto-Rico, Canada, Germany, Outlying-US(Guam-USVI-etc), India, Japan, Greece, South, China, Cuba, Iran, Honduras, Philippines, Italy, Poland, Jamaica, Vietnam, Mexico, Portugal, Ireland, France, Dominican-Republic, Laos, Ecuador, Taiwan, Haiti, Columbia, Hungary, Guatemala, Nicaragua, Scotland, Thailand, Yugoslavia, El-Salvador, Trinadad&Tobago, Peru, Hong, Holand-Netherlands.   \n",
    "- salary: >50K,<=50K"
   ]
  },
  {
   "cell_type": "code",
   "execution_count": 2,
   "metadata": {},
   "outputs": [],
   "source": [
    "import pandas as pd"
   ]
  },
  {
   "cell_type": "code",
   "execution_count": 3,
   "metadata": {},
   "outputs": [
    {
     "data": {
      "text/html": [
       "<div>\n",
       "<style scoped>\n",
       "    .dataframe tbody tr th:only-of-type {\n",
       "        vertical-align: middle;\n",
       "    }\n",
       "\n",
       "    .dataframe tbody tr th {\n",
       "        vertical-align: top;\n",
       "    }\n",
       "\n",
       "    .dataframe thead th {\n",
       "        text-align: right;\n",
       "    }\n",
       "</style>\n",
       "<table border=\"1\" class=\"dataframe\">\n",
       "  <thead>\n",
       "    <tr style=\"text-align: right;\">\n",
       "      <th></th>\n",
       "      <th>age</th>\n",
       "      <th>workclass</th>\n",
       "      <th>fnlwgt</th>\n",
       "      <th>education</th>\n",
       "      <th>education-num</th>\n",
       "      <th>marital-status</th>\n",
       "      <th>occupation</th>\n",
       "      <th>relationship</th>\n",
       "      <th>race</th>\n",
       "      <th>sex</th>\n",
       "      <th>capital-gain</th>\n",
       "      <th>capital-loss</th>\n",
       "      <th>hours-per-week</th>\n",
       "      <th>native-country</th>\n",
       "      <th>salary</th>\n",
       "    </tr>\n",
       "  </thead>\n",
       "  <tbody>\n",
       "    <tr>\n",
       "      <th>0</th>\n",
       "      <td>39</td>\n",
       "      <td>State-gov</td>\n",
       "      <td>77516</td>\n",
       "      <td>Bachelors</td>\n",
       "      <td>13</td>\n",
       "      <td>Never-married</td>\n",
       "      <td>Adm-clerical</td>\n",
       "      <td>Not-in-family</td>\n",
       "      <td>White</td>\n",
       "      <td>Male</td>\n",
       "      <td>2174</td>\n",
       "      <td>0</td>\n",
       "      <td>40</td>\n",
       "      <td>United-States</td>\n",
       "      <td>&lt;=50K</td>\n",
       "    </tr>\n",
       "    <tr>\n",
       "      <th>1</th>\n",
       "      <td>50</td>\n",
       "      <td>Self-emp-not-inc</td>\n",
       "      <td>83311</td>\n",
       "      <td>Bachelors</td>\n",
       "      <td>13</td>\n",
       "      <td>Married-civ-spouse</td>\n",
       "      <td>Exec-managerial</td>\n",
       "      <td>Husband</td>\n",
       "      <td>White</td>\n",
       "      <td>Male</td>\n",
       "      <td>0</td>\n",
       "      <td>0</td>\n",
       "      <td>13</td>\n",
       "      <td>United-States</td>\n",
       "      <td>&lt;=50K</td>\n",
       "    </tr>\n",
       "    <tr>\n",
       "      <th>2</th>\n",
       "      <td>38</td>\n",
       "      <td>Private</td>\n",
       "      <td>215646</td>\n",
       "      <td>HS-grad</td>\n",
       "      <td>9</td>\n",
       "      <td>Divorced</td>\n",
       "      <td>Handlers-cleaners</td>\n",
       "      <td>Not-in-family</td>\n",
       "      <td>White</td>\n",
       "      <td>Male</td>\n",
       "      <td>0</td>\n",
       "      <td>0</td>\n",
       "      <td>40</td>\n",
       "      <td>United-States</td>\n",
       "      <td>&lt;=50K</td>\n",
       "    </tr>\n",
       "    <tr>\n",
       "      <th>3</th>\n",
       "      <td>53</td>\n",
       "      <td>Private</td>\n",
       "      <td>234721</td>\n",
       "      <td>11th</td>\n",
       "      <td>7</td>\n",
       "      <td>Married-civ-spouse</td>\n",
       "      <td>Handlers-cleaners</td>\n",
       "      <td>Husband</td>\n",
       "      <td>Black</td>\n",
       "      <td>Male</td>\n",
       "      <td>0</td>\n",
       "      <td>0</td>\n",
       "      <td>40</td>\n",
       "      <td>United-States</td>\n",
       "      <td>&lt;=50K</td>\n",
       "    </tr>\n",
       "    <tr>\n",
       "      <th>4</th>\n",
       "      <td>28</td>\n",
       "      <td>Private</td>\n",
       "      <td>338409</td>\n",
       "      <td>Bachelors</td>\n",
       "      <td>13</td>\n",
       "      <td>Married-civ-spouse</td>\n",
       "      <td>Prof-specialty</td>\n",
       "      <td>Wife</td>\n",
       "      <td>Black</td>\n",
       "      <td>Female</td>\n",
       "      <td>0</td>\n",
       "      <td>0</td>\n",
       "      <td>40</td>\n",
       "      <td>Cuba</td>\n",
       "      <td>&lt;=50K</td>\n",
       "    </tr>\n",
       "  </tbody>\n",
       "</table>\n",
       "</div>"
      ],
      "text/plain": [
       "   age         workclass  fnlwgt  education  education-num  \\\n",
       "0   39         State-gov   77516  Bachelors             13   \n",
       "1   50  Self-emp-not-inc   83311  Bachelors             13   \n",
       "2   38           Private  215646    HS-grad              9   \n",
       "3   53           Private  234721       11th              7   \n",
       "4   28           Private  338409  Bachelors             13   \n",
       "\n",
       "       marital-status         occupation   relationship   race     sex  \\\n",
       "0       Never-married       Adm-clerical  Not-in-family  White    Male   \n",
       "1  Married-civ-spouse    Exec-managerial        Husband  White    Male   \n",
       "2            Divorced  Handlers-cleaners  Not-in-family  White    Male   \n",
       "3  Married-civ-spouse  Handlers-cleaners        Husband  Black    Male   \n",
       "4  Married-civ-spouse     Prof-specialty           Wife  Black  Female   \n",
       "\n",
       "   capital-gain  capital-loss  hours-per-week native-country salary  \n",
       "0          2174             0              40  United-States  <=50K  \n",
       "1             0             0              13  United-States  <=50K  \n",
       "2             0             0              40  United-States  <=50K  \n",
       "3             0             0              40  United-States  <=50K  \n",
       "4             0             0              40           Cuba  <=50K  "
      ]
     },
     "execution_count": 3,
     "metadata": {},
     "output_type": "execute_result"
    }
   ],
   "source": [
    "data = pd.read_csv('adult.data.csv')\n",
    "data.head()"
   ]
  },
  {
   "cell_type": "markdown",
   "metadata": {},
   "source": [
    "**1. Скільки чоловіків и жінок (ознака *sex*) представлено в цьому наборі даних?**"
   ]
  },
  {
   "cell_type": "code",
   "execution_count": 4,
   "metadata": {
    "collapsed": true
   },
   "outputs": [
    {
     "data": {
      "text/plain": [
       "sex\n",
       "Male      21790\n",
       "Female    10771\n",
       "Name: count, dtype: int64"
      ]
     },
     "execution_count": 4,
     "metadata": {},
     "output_type": "execute_result"
    }
   ],
   "source": [
    "# Ваш код тут\n",
    "data['sex'].value_counts(normalize=False)\n",
    "# Жінок: 10771, Чоловіків: 21790"
   ]
  },
  {
   "cell_type": "markdown",
   "metadata": {},
   "source": [
    "**2. Який середній вік (ознака *age*) жінок?**"
   ]
  },
  {
   "cell_type": "code",
   "execution_count": 15,
   "metadata": {
    "collapsed": true
   },
   "outputs": [
    {
     "name": "stdout",
     "output_type": "stream",
     "text": [
      "Середній вік жінок: 36.86\n"
     ]
    }
   ],
   "source": [
    "avg_female_age = data[(data['sex'] == 'Female')]['age'].mean()\n",
    "print(f\"Середній вік жінок: {avg_female_age:.2f}\")"
   ]
  },
  {
   "cell_type": "markdown",
   "metadata": {},
   "source": [
    "**3. Яка доля громадян Німеччини (ознака *native-country*)?**"
   ]
  },
  {
   "cell_type": "code",
   "execution_count": 16,
   "metadata": {
    "collapsed": true
   },
   "outputs": [
    {
     "name": "stdout",
     "output_type": "stream",
     "text": [
      "Частка громадян Німеччини: 0.42%\n"
     ]
    }
   ],
   "source": [
    "# Підрахунок загальної кількості рядків\n",
    "total_count = len(data)\n",
    "\n",
    "# Підрахунок кількості рядків, де native-country == 'Germany'\n",
    "germany_count = len(data[data['native-country'] == 'Germany'])\n",
    "\n",
    "# Обчислення частки громадян Німеччини\n",
    "germany_share = germany_count / total_count\n",
    "\n",
    "print(f\"Частка громадян Німеччини: {germany_share:.2%}\")\n"
   ]
  },
  {
   "cell_type": "markdown",
   "metadata": {},
   "source": [
    "**4-5. Які средні значення та средньоквадратичні відхилення віку тих, хто отримує більше 50K на рік (ознака *salary*) і тих, хто отримує менше 50K на рік?**"
   ]
  },
  {
   "cell_type": "code",
   "execution_count": 17,
   "metadata": {
    "collapsed": true
   },
   "outputs": [
    {
     "name": "stdout",
     "output_type": "stream",
     "text": [
      "Середній вік тих, хто отримує більше 50K: 44.25, середньоквадратичне відхилення: 45.48\n",
      "Середній вік тих, хто отримує менше 50K: 36.78, середньоквадратичне відхилення: 39.36\n"
     ]
    }
   ],
   "source": [
    "more_than_50k = data[data['salary'] == '>50K']\n",
    "less_than_50k = data[data['salary'] == '<=50K']\n",
    "\n",
    "# Обчислення середнього значення для кожної групи\n",
    "mean_age_more_than_50k = more_than_50k['age'].mean()\n",
    "mean_age_less_than_50k = less_than_50k['age'].mean()\n",
    "\n",
    "# Обчислення середньоквадратичного відхилення для кожної групи\n",
    "rmse_age_more_than_50k = (more_than_50k['age']**2).mean()**0.5\n",
    "rmse_age_less_than_50k = (less_than_50k['age']**2).mean()**0.5\n",
    "\n",
    "print(f\"Середній вік тих, хто отримує більше 50K: {mean_age_more_than_50k:.2f}, середньоквадратичне відхилення: {rmse_age_more_than_50k:.2f}\")\n",
    "print(f\"Середній вік тих, хто отримує менше 50K: {mean_age_less_than_50k:.2f}, середньоквадратичне відхилення: {rmse_age_less_than_50k:.2f}\")"
   ]
  },
  {
   "cell_type": "markdown",
   "metadata": {},
   "source": [
    "**6. Чи правда, що люди, які отримують більше 50k, мають як мінімум вищу освіту? (ознака *education – Bachelors, Prof-school, Assoc-acdm, Assoc-voc, Masters* или *Doctorate*)**"
   ]
  },
  {
   "cell_type": "code",
   "execution_count": 18,
   "metadata": {
    "collapsed": true
   },
   "outputs": [
    {
     "name": "stdout",
     "output_type": "stream",
     "text": [
      "Ні, не всі люди, які отримують більше 50K, мають як мінімум вищу освіту.\n"
     ]
    }
   ],
   "source": [
    "# Фільтруємо дані для тих, хто отримує більше 50K\n",
    "more_than_50k = data[data['salary'] == '>50K']\n",
    "higher_education = ['Bachelors', 'Prof-school', 'Assoc-acdm', 'Assoc-voc', 'Masters', 'Doctorate']\n",
    "\n",
    "# Перевіряємо, чи всі значення в колонці 'education' належать до списку higher_education\n",
    "all_higher_educated = more_than_50k['education'].isin(higher_education).all()\n",
    "\n",
    "if all_higher_educated:\n",
    "    print(\"Так, всі люди, які отримують більше 50K, мають як мінімум вищу освіту.\")\n",
    "else:\n",
    "    print(\"Ні, не всі люди, які отримують більше 50K, мають як мінімум вищу освіту.\")"
   ]
  },
  {
   "cell_type": "markdown",
   "metadata": {},
   "source": [
    "**7. Порахуйте статистику віку для кожної раси (ознака *race*) і кожної статі. Використайте *groupby* и *describe*. Знайдіть таким сином максимальний вік чоловіків раси *Amer-Indian-Eskimo*.**"
   ]
  },
  {
   "cell_type": "code",
   "execution_count": 19,
   "metadata": {
    "collapsed": true
   },
   "outputs": [
    {
     "name": "stdout",
     "output_type": "stream",
     "text": [
      "                             count       mean        std   min   25%   50%  \\\n",
      "race               sex                                                       \n",
      "Amer-Indian-Eskimo Female    119.0  37.117647  13.114991  17.0  27.0  36.0   \n",
      "                   Male      192.0  37.208333  12.049563  17.0  28.0  35.0   \n",
      "Asian-Pac-Islander Female    346.0  35.089595  12.300845  17.0  25.0  33.0   \n",
      "                   Male      693.0  39.073593  12.883944  18.0  29.0  37.0   \n",
      "Black              Female   1555.0  37.854019  12.637197  17.0  28.0  37.0   \n",
      "                   Male     1569.0  37.682600  12.882612  17.0  27.0  36.0   \n",
      "Other              Female    109.0  31.678899  11.631599  17.0  23.0  29.0   \n",
      "                   Male      162.0  34.654321  11.355531  17.0  26.0  32.0   \n",
      "White              Female   8642.0  36.811618  14.329093  17.0  25.0  35.0   \n",
      "                   Male    19174.0  39.652498  13.436029  17.0  29.0  38.0   \n",
      "\n",
      "                             75%   max  \n",
      "race               sex                  \n",
      "Amer-Indian-Eskimo Female  46.00  80.0  \n",
      "                   Male    45.00  82.0  \n",
      "Asian-Pac-Islander Female  43.75  75.0  \n",
      "                   Male    46.00  90.0  \n",
      "Black              Female  46.00  90.0  \n",
      "                   Male    46.00  90.0  \n",
      "Other              Female  39.00  74.0  \n",
      "                   Male    42.00  77.0  \n",
      "White              Female  46.00  90.0  \n",
      "                   Male    49.00  90.0  \n",
      "Максимальний вік чоловіків раси 'Amer-Indian-Eskimo': 82\n"
     ]
    }
   ],
   "source": [
    "# Групування за 'race' та 'sex', опис статистики 'age'\n",
    "age_stats = data.groupby(['race', 'sex'])['age'].describe()\n",
    "\n",
    "# Виведення статистики\n",
    "print(age_stats)\n",
    "\n",
    "# Знаходження максимального віку чоловіків раси 'Amer-Indian-Eskimo'\n",
    "max_age_amer_indian_eskimo_men = data[(data['race'] == 'Amer-Indian-Eskimo') & (data['sex'] == 'Male')]['age'].max()\n",
    "\n",
    "print(f\"Максимальний вік чоловіків раси 'Amer-Indian-Eskimo': {max_age_amer_indian_eskimo_men}\")"
   ]
  },
  {
   "cell_type": "markdown",
   "metadata": {},
   "source": [
    "**8. Серед кого більша доля багатіших (>50K): серед одружених чи не одружених чоловіків (ознака *marital-status*)? За одружених вважаємо тих, у кого *marital-status* починається із *Married* (Married-civ-spouse, Married-spouse-absent или Married-AF-spouse), всі інші - не одружені.**"
   ]
  },
  {
   "cell_type": "code",
   "execution_count": 22,
   "metadata": {
    "collapsed": true
   },
   "outputs": [
    {
     "name": "stdout",
     "output_type": "stream",
     "text": [
      "Частка багатших серед одружених чоловіків: 44.05%\n",
      "Частка багатших серед не одружених чоловіків: 8.45%\n"
     ]
    }
   ],
   "source": [
    "# Фільтруємо дані для чоловіків\n",
    "men_data = data[data['sex'] == 'Male'].copy()\n",
    "\n",
    "# Додаємо колонку для визначення одруженості\n",
    "men_data.loc[:, 'married'] = men_data['marital-status'].apply(lambda x: 'Married' if x.startswith('Married') else 'Not Married')\n",
    "\n",
    "# Обчислюємо частку багатших (>50K) для кожної групи\n",
    "rich_married = men_data[(men_data['married'] == 'Married') & (men_data['salary'] == '>50K')]\n",
    "rich_not_married = men_data[(men_data['married'] == 'Not Married') & (men_data['salary'] == '>50K')]\n",
    "\n",
    "total_married = men_data[men_data['married'] == 'Married']\n",
    "total_not_married = men_data[men_data['married'] == 'Not Married']\n",
    "\n",
    "rich_married_share = len(rich_married) / len(total_married)\n",
    "rich_not_married_share = len(rich_not_married) / len(total_not_married)\n",
    "\n",
    "print(f\"Частка багатших серед одружених чоловіків: {rich_married_share:.2%}\")\n",
    "print(f\"Частка багатших серед не одружених чоловіків: {rich_not_married_share:.2%}\")"
   ]
  },
  {
   "cell_type": "markdown",
   "metadata": {},
   "source": [
    "**9. Яку максимальну кількість годин в тиждень працює людина (ознака *hours-per-week*)? Скільки людей працюють таку кількість годин і який відсоток серед них багатих?**"
   ]
  },
  {
   "cell_type": "code",
   "execution_count": 42,
   "metadata": {
    "collapsed": true
   },
   "outputs": [
    {
     "name": "stderr",
     "output_type": "stream",
     "text": [
      "C:\\Users\\Denis\\AppData\\Local\\Temp\\ipykernel_9632\\1689257105.py:13: UserWarning: Boolean Series key will be reindexed to match DataFrame index.\n",
      "  percent_rich_max_hours = len(max_hours_df[data['salary'] == '>50K']) / count_max_hours\n"
     ]
    }
   ],
   "source": [
    "# Знайти максимальну кількість годин на тиждень\n",
    "max_hours = data['hours-per-week'].max()\n",
    "\n",
    "# Фільтруємо дані за максимальними годинами\n",
    "max_hours_df = data[data['hours-per-week'] == max_hours]\n",
    "\n",
    "# Кількість людей, що працюють максимальну кількість годин на тиждень\n",
    "count_max_hours = max_hours_df.shape[0]\n",
    "\n",
    "# max_hours_df[max_hours_df['salary'] == '>50K'].sum()\n",
    "\n",
    "# Відсоток багатих людей серед тих, що працюють максимальну кількість годин\n",
    "percent_rich_max_hours = len(max_hours_df[data['salary'] == '>50K']) / count_max_hours\n",
    "\n",
    "# print(f\"Максимальна кількість годин на тиждень: {max_hours}\")\n",
    "# print(f\"Кількість людей, що працюють {max_hours} годин на тиждень: {count_max_hours}\")\n",
    "# print(f\"Відсоток багатих серед них: {percent_rich_max_hours:.2f}%\")"
   ]
  },
  {
   "cell_type": "markdown",
   "metadata": {},
   "source": [
    "**10. Порахуйте середню тривалість роботи на тиждень (*hours-per-week*) серед багатих і бідних (*salary*) для кожної країни (*native-country*).**"
   ]
  },
  {
   "cell_type": "code",
   "execution_count": null,
   "metadata": {
    "collapsed": true
   },
   "outputs": [],
   "source": [
    "# Ваш код тут"
   ]
  }
 ],
 "metadata": {
  "anaconda-cloud": {},
  "kernelspec": {
   "display_name": "Python 3",
   "language": "python",
   "name": "python3"
  },
  "language_info": {
   "codemirror_mode": {
    "name": "ipython",
    "version": 3
   },
   "file_extension": ".py",
   "mimetype": "text/x-python",
   "name": "python",
   "nbconvert_exporter": "python",
   "pygments_lexer": "ipython3",
   "version": "3.12.1"
  }
 },
 "nbformat": 4,
 "nbformat_minor": 1
}
